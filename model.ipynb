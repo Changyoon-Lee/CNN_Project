{
 "cells": [
  {
   "cell_type": "code",
   "execution_count": 139,
   "metadata": {},
   "outputs": [],
   "source": [
    "from gensim import models\n",
    "import numpy as np\n",
    "import functions as fc"
   ]
  },
  {
   "cell_type": "code",
   "execution_count": null,
   "metadata": {},
   "outputs": [],
   "source": [
    "max_len = 40"
   ]
  },
  {
   "cell_type": "code",
   "execution_count": 2,
   "metadata": {},
   "outputs": [],
   "source": [
    "# 불러들이는데 시간 오지게 걸리고, 다운 받아서 쥬피터 폴더에 넣어야함\n",
    "ko_model = models.fasttext.load_facebook_model('cc.ko.300.bin')"
   ]
  },
  {
   "cell_type": "code",
   "execution_count": 93,
   "metadata": {},
   "outputs": [],
   "source": [
    "from konlpy.tag import Okt # 이걸 써서 포스 태깅을 할꺼고\n",
    "okt = Okt()\n",
    "import pandas as pd # 이것들 가져와\n",
    "train_data = pd.read_csv('train_data.csv')\n",
    "test_data = pd.read_csv('test_data.csv')"
   ]
  },
  {
   "cell_type": "code",
   "execution_count": 91,
   "metadata": {},
   "outputs": [],
   "source": [
    "#문장들 전처리하기\n",
    "def preprocessing(data):\n",
    "    data.drop_duplicates(subset=['document'], inplace=True)\n",
    "    data = data.dropna(how = 'any')\n",
    "    data['document'] = data['document'].str.replace(\"[^ㄱ-ㅎㅏ-ㅣ가-힣 ]\",\"\")\n",
    "    data['document'].replace('', np.nan, inplace=True)\n",
    "    data = data.dropna(how = 'any')\n",
    "    sentences = data['document'].tolist()\n",
    "    label = data['label']\n",
    "    print('data len = {}'.format(len(sentences)))\n",
    "    return sentences, label"
   ]
  },
  {
   "cell_type": "code",
   "execution_count": 26,
   "metadata": {},
   "outputs": [],
   "source": [
    "# 단어 토큰화 하기\n",
    "def tokenize(sentence):\n",
    "    okt = Okt()\n",
    "    tokenized_sentence = []\n",
    "\n",
    "    # 우선 단어의 기본형으로 모두 살리고, 명사, 동사, 영어만 담는다.\n",
    "    # 그냥 nouns로 분리하는 것보다 좀 더 정확하고 많은 데이터를 얻을 수 있다.\n",
    "    for line in sentence:\n",
    "        result = []\n",
    "        temp_sentence = okt.pos(line, norm=True, stem=True) # 먼저 형태소 분리해서 리스트에 담고\n",
    "\n",
    "        for i in temp_sentence:                             \n",
    "            if (i[1] == 'Noun' or i[1] == 'Adjective' or i[1] == 'Alpha'):                  \n",
    "                result.append(i[0])\n",
    "            \n",
    "        tokenized_sentence.append(result)\n",
    "\n",
    "    return tokenized_sentence"
   ]
  },
  {
   "cell_type": "code",
   "execution_count": 54,
   "metadata": {},
   "outputs": [],
   "source": [
    "def pad_sequence(sentences, padding_word=\"<PAD/>\"): #  오른쪽을 패딩주기\n",
    "    maxlen = 40\n",
    "    padded_sentences = []\n",
    "    for i in range(len(sentences)):\n",
    "        sentence = sentences[i]\n",
    "        if len(sentence)<=maxlen:\n",
    "            num_padding = maxlen - len(sentence)\n",
    "            new_sentence = sentence + [padding_word] * num_padding\n",
    "        else : new_sentence = sentence[:maxlen]\n",
    "        padded_sentences.append(new_sentence)\n",
    "    return padded_sentences"
   ]
  },
  {
   "cell_type": "code",
   "execution_count": 73,
   "metadata": {},
   "outputs": [],
   "source": [
    "# ko_model.wv.word_vec('<PAD/>')\n",
    "paddedarray = np.array([ ko_model.wv.word_vec(token) for x in padded for token in x])\n",
    "final_array=paddedarray.reshape(-1,max_len,300) # 이런 형태네? max_length of sent = 22(34),근데 10개의 sent, 22*10 fasttext = 300(vector) \n",
    "final_array.shape"
   ]
  },
  {
   "cell_type": "code",
   "execution_count": null,
   "metadata": {},
   "outputs": [],
   "source": [
    "def vectorize(padded_sentences):\n",
    "    paddedarray = np.array([ ko_model.wv.word_vec(token) for x in padded_sentences for token in x])\n",
    "    final_array=paddedarray.reshape(-1,max_len,300)"
   ]
  },
  {
   "cell_type": "code",
   "execution_count": 134,
   "metadata": {
    "scrolled": false
   },
   "outputs": [
    {
     "name": "stdout",
     "output_type": "stream",
     "text": [
      "data len = 145791\n",
      "data len = 48995\n"
     ]
    },
    {
     "name": "stderr",
     "output_type": "stream",
     "text": [
      "C:\\Users\\YOON\\anaconda3\\envs\\nlp\\lib\\site-packages\\ipykernel_launcher.py:4: SettingWithCopyWarning: \n",
      "A value is trying to be set on a copy of a slice from a DataFrame.\n",
      "Try using .loc[row_indexer,col_indexer] = value instead\n",
      "\n",
      "See the caveats in the documentation: https://pandas.pydata.org/pandas-docs/stable/user_guide/indexing.html#returning-a-view-versus-a-copy\n",
      "  after removing the cwd from sys.path.\n",
      "C:\\Users\\YOON\\anaconda3\\envs\\nlp\\lib\\site-packages\\pandas\\core\\generic.py:6746: SettingWithCopyWarning: \n",
      "A value is trying to be set on a copy of a slice from a DataFrame\n",
      "\n",
      "See the caveats in the documentation: https://pandas.pydata.org/pandas-docs/stable/user_guide/indexing.html#returning-a-view-versus-a-copy\n",
      "  self._update_inplace(new_data)\n"
     ]
    }
   ],
   "source": [
    "pre_train_data, train_label = preprocessing(train_data)\n",
    "pre_test_data, test_label = preprocessing(test_data)"
   ]
  },
  {
   "cell_type": "code",
   "execution_count": 103,
   "metadata": {},
   "outputs": [],
   "source": [
    "token_train_data = tokenize(pre_train_data)\n",
    "token_test_data = tokenize(pre_test_data)"
   ]
  },
  {
   "cell_type": "code",
   "execution_count": 130,
   "metadata": {},
   "outputs": [
    {
     "data": {
      "text/plain": [
       "<matplotlib.axes._subplots.AxesSubplot at 0x25d86fb3748>"
      ]
     },
     "execution_count": 130,
     "metadata": {},
     "output_type": "execute_result"
    },
    {
     "data": {
      "image/png": "[encoded data removed]",
      "text/plain": [
       "<Figure size 432x288 with 1 Axes>"
      ]
     },
     "metadata": {
      "needs_background": "light"
     },
     "output_type": "display_data"
    }
   ],
   "source": [
    "df['len']=[len(i) for i in df['tokens']]\n",
    "import matplotlib.pyplot as plt\n",
    "\n",
    "df['len'].hist(bins =30)"
   ]
  },
  {
   "cell_type": "code",
   "execution_count": 125,
   "metadata": {},
   "outputs": [],
   "source": [
    "## 토큰화된 데이터 pickle로 저장\n",
    "# import pandas as pd\n",
    "# import pickle\n",
    "# df = pd.DataFrame(np.array(token_test_data),columns=['tokens'])\n",
    "# df['labels']=list(map(int,test_label))\n",
    "# df2 = pd.DataFrame(token_test_data,test_label,columns=['tokens','lable'])\n",
    "# df1.to_pickle('token_train_data.pkl')\n",
    "# df2.to_pickle('token_test_data.pkl')"
   ]
  },
  {
   "cell_type": "code",
   "execution_count": null,
   "metadata": {},
   "outputs": [],
   "source": [
    "import pickle\n",
    "import pandas as pd\n",
    "token_train_data = pd.read_pickle('token_train_data.pkl')\n",
    "token_test_data = pd.read_pickle('token_test_data.pkl')"
   ]
  },
  {
   "cell_type": "code",
   "execution_count": 140,
   "metadata": {},
   "outputs": [
    {
     "ename": "NameError",
     "evalue": "name 'np' is not defined",
     "output_type": "error",
     "traceback": [
      "\u001b[1;31m---------------------------------------------------------------------------\u001b[0m",
      "\u001b[1;31mNameError\u001b[0m                                 Traceback (most recent call last)",
      "\u001b[1;32m<ipython-input-140-1f521a11d78c>\u001b[0m in \u001b[0;36m<module>\u001b[1;34m\u001b[0m\n\u001b[1;32m----> 1\u001b[1;33m \u001b[0mfinal_train_data\u001b[0m \u001b[1;33m=\u001b[0m \u001b[0mfc\u001b[0m\u001b[1;33m.\u001b[0m\u001b[0mfasttext_vectorize\u001b[0m\u001b[1;33m(\u001b[0m\u001b[0mtoken_train_data\u001b[0m\u001b[1;33m)\u001b[0m\u001b[1;33m\u001b[0m\u001b[1;33m\u001b[0m\u001b[0m\n\u001b[0m\u001b[0;32m      2\u001b[0m \u001b[0mfinal_test_data\u001b[0m \u001b[1;33m=\u001b[0m \u001b[0mfc\u001b[0m\u001b[1;33m.\u001b[0m\u001b[0mfasttext_vectorize\u001b[0m\u001b[1;33m(\u001b[0m\u001b[0mtoken_test_data\u001b[0m\u001b[1;33m)\u001b[0m\u001b[1;33m\u001b[0m\u001b[1;33m\u001b[0m\u001b[0m\n",
      "\u001b[1;32m~\\nlp\\CNN_Project\\functions.py\u001b[0m in \u001b[0;36mfasttext_vectorize\u001b[1;34m(padded_sentences)\u001b[0m\n\u001b[0;32m     41\u001b[0m             \u001b[0mnum_padding\u001b[0m \u001b[1;33m=\u001b[0m \u001b[0mmaxlen\u001b[0m \u001b[1;33m-\u001b[0m \u001b[0mlen\u001b[0m\u001b[1;33m(\u001b[0m\u001b[0msentence\u001b[0m\u001b[1;33m)\u001b[0m\u001b[1;33m\u001b[0m\u001b[1;33m\u001b[0m\u001b[0m\n\u001b[0;32m     42\u001b[0m             \u001b[0mnew_sentence\u001b[0m \u001b[1;33m=\u001b[0m \u001b[0msentence\u001b[0m \u001b[1;33m+\u001b[0m \u001b[1;33m[\u001b[0m\u001b[0mpadding_word\u001b[0m\u001b[1;33m]\u001b[0m \u001b[1;33m*\u001b[0m \u001b[0mnum_padding\u001b[0m\u001b[1;33m\u001b[0m\u001b[1;33m\u001b[0m\u001b[0m\n\u001b[1;32m---> 43\u001b[1;33m         \u001b[1;32melse\u001b[0m \u001b[1;33m:\u001b[0m \u001b[0mnew_sentence\u001b[0m \u001b[1;33m=\u001b[0m \u001b[0msentence\u001b[0m\u001b[1;33m[\u001b[0m\u001b[1;33m:\u001b[0m\u001b[0mmaxlen\u001b[0m\u001b[1;33m]\u001b[0m\u001b[1;33m\u001b[0m\u001b[1;33m\u001b[0m\u001b[0m\n\u001b[0m\u001b[0;32m     44\u001b[0m         \u001b[0mpadded_sentences\u001b[0m\u001b[1;33m.\u001b[0m\u001b[0mappend\u001b[0m\u001b[1;33m(\u001b[0m\u001b[0mnew_sentence\u001b[0m\u001b[1;33m)\u001b[0m\u001b[1;33m\u001b[0m\u001b[1;33m\u001b[0m\u001b[0m\n\u001b[0;32m     45\u001b[0m     \u001b[1;32mreturn\u001b[0m \u001b[0mpadded_sentences\u001b[0m\u001b[1;33m\u001b[0m\u001b[1;33m\u001b[0m\u001b[0m\n",
      "\u001b[1;31mNameError\u001b[0m: name 'np' is not defined"
     ]
    }
   ],
   "source": [
    "final_train_data = fc.fasttext_vectorize(token_train_data)\n",
    "final_test_data = fc.fasttext_vectorize(token_test_data)\n"
   ]
  },
  {
   "cell_type": "code",
   "execution_count": 72,
   "metadata": {},
   "outputs": [
    {
     "data": {
      "text/plain": [
       "145791"
      ]
     },
     "execution_count": 72,
     "metadata": {},
     "output_type": "execute_result"
    }
   ],
   "source": [
    "len(padded)"
   ]
  },
  {
   "cell_type": "code",
   "execution_count": 75,
   "metadata": {},
   "outputs": [
    {
     "data": {
      "text/plain": [
       "(145791, 40, 300)"
      ]
     },
     "execution_count": 75,
     "metadata": {},
     "output_type": "execute_result"
    }
   ],
   "source": []
  },
  {
   "cell_type": "code",
   "execution_count": 19,
   "metadata": {
    "scrolled": true
   },
   "outputs": [
    {
     "ename": "NameError",
     "evalue": "name 'pading' is not defined",
     "output_type": "error",
     "traceback": [
      "\u001b[1;31m---------------------------------------------------------------------------\u001b[0m",
      "\u001b[1;31mNameError\u001b[0m                                 Traceback (most recent call last)",
      "\u001b[1;32m<ipython-input-19-4d8aca5168a6>\u001b[0m in \u001b[0;36m<module>\u001b[1;34m\u001b[0m\n\u001b[1;32m----> 1\u001b[1;33m \u001b[0mpading\u001b[0m\u001b[1;31m# 리스트 안에 220개 들어가있어, 22개를 하나로 합쳐줘야해, 그래서 10차원 만들어야 해 ( 10개 기준)\u001b[0m\u001b[1;33m\u001b[0m\u001b[1;33m\u001b[0m\u001b[0m\n\u001b[0m\u001b[0;32m      2\u001b[0m       \u001b[1;31m# 100개로 해보니,, 34로 해야함,                  (100차원) 100개 기준\u001b[0m\u001b[1;33m\u001b[0m\u001b[1;33m\u001b[0m\u001b[1;33m\u001b[0m\u001b[0m\n\u001b[0;32m      3\u001b[0m \u001b[1;33m\u001b[0m\u001b[0m\n\u001b[0;32m      4\u001b[0m \u001b[1;32mdef\u001b[0m \u001b[0mdivide_list\u001b[0m\u001b[1;33m(\u001b[0m\u001b[0ml\u001b[0m\u001b[1;33m,\u001b[0m \u001b[0mn\u001b[0m\u001b[1;33m)\u001b[0m\u001b[1;33m:\u001b[0m\u001b[1;33m\u001b[0m\u001b[1;33m\u001b[0m\u001b[0m\n\u001b[0;32m      5\u001b[0m     \u001b[1;31m# 리스트 l의 길이가 n이면 계속 반복\u001b[0m\u001b[1;33m\u001b[0m\u001b[1;33m\u001b[0m\u001b[1;33m\u001b[0m\u001b[0m\n",
      "\u001b[1;31mNameError\u001b[0m: name 'pading' is not defined"
     ]
    }
   ],
   "source": [
    "pading# 리스트 안에 220개 들어가있어, 22개를 하나로 합쳐줘야해, 그래서 10차원 만들어야 해 ( 10개 기준)\n",
    "      # 100개로 해보니,, 34로 해야함,                  (100차원) 100개 기준\n",
    "\n",
    "def divide_list(l, n): \n",
    "    # 리스트 l의 길이가 n이면 계속 반복\n",
    "    for i in range(0, len(l), n): \n",
    "        yield l[i:i + n] \n",
    "# 한 리스트에 몇개씩 담을지 결정\n",
    "n = 3\n",
    "result = list(divide_list(pading, 34))\n",
    "\n",
    "\n",
    "    "
   ]
  },
  {
   "cell_type": "code",
   "execution_count": 60,
   "metadata": {},
   "outputs": [],
   "source": [
    "import tensorflow as tf"
   ]
  },
  {
   "cell_type": "code",
   "execution_count": 61,
   "metadata": {},
   "outputs": [],
   "source": [
    "from tensorflow import keras"
   ]
  },
  {
   "cell_type": "code",
   "execution_count": 76,
   "metadata": {},
   "outputs": [],
   "source": [
    "embedding_dim = 200\n",
    "filter_sizes = (3, 4, 5)\n",
    "num_filters = 100\n",
    "dropout = 0.5\n",
    "hidden_dims = 100\n",
    "\n",
    "batch_size = 50\n",
    "num_epochs = 10\n",
    "min_word_count = 1\n",
    "context = 10\n",
    "\n",
    "conv_blocks = []\n",
    "\n",
    "sequence_length = 200\n",
    "\n",
    "# input_shape = (sequence_length, embedding_dim) # input shape for\n",
    "input_shape = (40, 300) # input shape for data, (max_length of sent, vect)\n",
    "\n",
    "model_input = keras.layers.Input(shape=input_shape)\n",
    "z = model_input\n",
    "for sz in filter_sizes:\n",
    "    conv = keras.layers.Conv1D(filters=num_filters,\n",
    "                         kernel_size=sz,\n",
    "                         padding=\"valid\",\n",
    "                         activation=\"relu\",\n",
    "                         strides=1)(z)\n",
    "    conv = keras.layers.MaxPooling1D(pool_size=2)(conv)\n",
    "    conv = keras.layers.Flatten()(conv)\n",
    "    conv_blocks.append(conv)\n",
    "z = keras.layers.Concatenate()(conv_blocks) if len(conv_blocks) > 1 else conv_blocks[0]\n",
    "\n",
    "z = keras.layers.Dropout(dropout)(z)\n",
    "z = keras.layers.Dense(hidden_dims, activation=\"relu\")(z)\n",
    "model_output = keras.layers.Dense(1, activation=\"sigmoid\")(z)\n",
    "\n",
    "model = keras.Model(model_input, model_output)\n",
    "model.compile(loss=\"binary_crossentropy\", optimizer=\"adadelta\", metrics=[\"accuracy\"])\n"
   ]
  },
  {
   "cell_type": "code",
   "execution_count": 77,
   "metadata": {},
   "outputs": [
    {
     "name": "stdout",
     "output_type": "stream",
     "text": [
      "Model: \"functional_9\"\n",
      "__________________________________________________________________________________________________\n",
      "Layer (type)                    Output Shape         Param #     Connected to                     \n",
      "==================================================================================================\n",
      "input_5 (InputLayer)            [(None, 40, 300)]    0                                            \n",
      "__________________________________________________________________________________________________\n",
      "conv1d_12 (Conv1D)              (None, 38, 100)      90100       input_5[0][0]                    \n",
      "__________________________________________________________________________________________________\n",
      "conv1d_13 (Conv1D)              (None, 37, 100)      120100      input_5[0][0]                    \n",
      "__________________________________________________________________________________________________\n",
      "conv1d_14 (Conv1D)              (None, 36, 100)      150100      input_5[0][0]                    \n",
      "__________________________________________________________________________________________________\n",
      "max_pooling1d_12 (MaxPooling1D) (None, 19, 100)      0           conv1d_12[0][0]                  \n",
      "__________________________________________________________________________________________________\n",
      "max_pooling1d_13 (MaxPooling1D) (None, 18, 100)      0           conv1d_13[0][0]                  \n",
      "__________________________________________________________________________________________________\n",
      "max_pooling1d_14 (MaxPooling1D) (None, 18, 100)      0           conv1d_14[0][0]                  \n",
      "__________________________________________________________________________________________________\n",
      "flatten_12 (Flatten)            (None, 1900)         0           max_pooling1d_12[0][0]           \n",
      "__________________________________________________________________________________________________\n",
      "flatten_13 (Flatten)            (None, 1800)         0           max_pooling1d_13[0][0]           \n",
      "__________________________________________________________________________________________________\n",
      "flatten_14 (Flatten)            (None, 1800)         0           max_pooling1d_14[0][0]           \n",
      "__________________________________________________________________________________________________\n",
      "concatenate_4 (Concatenate)     (None, 5500)         0           flatten_12[0][0]                 \n",
      "                                                                 flatten_13[0][0]                 \n",
      "                                                                 flatten_14[0][0]                 \n",
      "__________________________________________________________________________________________________\n",
      "dropout_6 (Dropout)             (None, 5500)         0           concatenate_4[0][0]              \n",
      "__________________________________________________________________________________________________\n",
      "dense_8 (Dense)                 (None, 100)          550100      dropout_6[0][0]                  \n",
      "__________________________________________________________________________________________________\n",
      "dense_9 (Dense)                 (None, 1)            101         dense_8[0][0]                    \n",
      "==================================================================================================\n",
      "Total params: 910,501\n",
      "Trainable params: 910,501\n",
      "Non-trainable params: 0\n",
      "__________________________________________________________________________________________________\n"
     ]
    }
   ],
   "source": [
    "model.summary()"
   ]
  },
  {
   "cell_type": "code",
   "execution_count": 78,
   "metadata": {},
   "outputs": [
    {
     "name": "stdout",
     "output_type": "stream",
     "text": [
      "Epoch 1/10\n",
      "2916/2916 [==============================] - 54s 19ms/step - loss: 0.6924 - accuracy: 0.5176\n",
      "Epoch 2/10\n",
      "2916/2916 [==============================] - 52s 18ms/step - loss: 0.6898 - accuracy: 0.5424\n",
      "Epoch 3/10\n",
      "2916/2916 [==============================] - 53s 18ms/step - loss: 0.6877 - accuracy: 0.5597\n",
      "Epoch 4/10\n",
      "2916/2916 [==============================] - 53s 18ms/step - loss: 0.6850 - accuracy: 0.5773\n",
      "Epoch 5/10\n",
      "2916/2916 [==============================] - 53s 18ms/step - loss: 0.6817 - accuracy: 0.5939\n",
      "Epoch 6/10\n",
      "2916/2916 [==============================] - 54s 18ms/step - loss: 0.6777 - accuracy: 0.6092\n",
      "Epoch 7/10\n",
      "2916/2916 [==============================] - 54s 19ms/step - loss: 0.6727 - accuracy: 0.6255\n",
      "Epoch 8/10\n",
      "2916/2916 [==============================] - 53s 18ms/step - loss: 0.6669 - accuracy: 0.6381\n",
      "Epoch 9/10\n",
      "2916/2916 [==============================] - 53s 18ms/step - loss: 0.6600 - accuracy: 0.6496\n",
      "Epoch 10/10\n",
      "2916/2916 [==============================] - 53s 18ms/step - loss: 0.6522 - accuracy: 0.6609\n"
     ]
    },
    {
     "data": {
      "text/plain": [
       "<tensorflow.python.keras.callbacks.History at 0x25d0eb983c8>"
      ]
     },
     "execution_count": 78,
     "metadata": {},
     "output_type": "execute_result"
    }
   ],
   "source": [
    "model.fit(final_array, label,epochs =10, batch_size = batch_size)"
   ]
  },
  {
   "cell_type": "code",
   "execution_count": 80,
   "metadata": {},
   "outputs": [],
   "source": [
    "import os\n",
    "checkpoint_dir = './ckpt'\n",
    "if not os.path.exists(checkpoint_dir):\n",
    "    os.makedirs(checkpoint_dir)"
   ]
  },
  {
   "cell_type": "code",
   "execution_count": 83,
   "metadata": {},
   "outputs": [
    {
     "name": "stdout",
     "output_type": "stream",
     "text": [
      " 497/2916 [====>.........................] - ETA: 43s - loss: 0.6336 - accuracy: 0.6812INFO:tensorflow:Assets written to: ./ckpt\\ckpt-loss=0.634\\assets\n",
      " 999/2916 [=========>....................] - ETA: 36s - loss: 0.6334 - accuracy: 0.6792INFO:tensorflow:Assets written to: ./ckpt\\ckpt-loss=0.633\\assets\n",
      "1498/2916 [==============>...............] - ETA: 26s - loss: 0.6325 - accuracy: 0.6798INFO:tensorflow:Assets written to: ./ckpt\\ckpt-loss=0.632\\assets\n",
      "1998/2916 [===================>..........] - ETA: 17s - loss: 0.6318 - accuracy: 0.6811INFO:tensorflow:Assets written to: ./ckpt\\ckpt-loss=0.632\\assets\n",
      "2498/2916 [========================>.....] - ETA: 7s - loss: 0.6306 - accuracy: 0.6817INFO:tensorflow:Assets written to: ./ckpt\\ckpt-loss=0.631\\assets\n",
      "2916/2916 [==============================] - 56s 19ms/step - loss: 0.6301 - accuracy: 0.6817\n"
     ]
    },
    {
     "data": {
      "text/plain": [
       "<tensorflow.python.keras.callbacks.History at 0x25d267fd668>"
      ]
     },
     "execution_count": 83,
     "metadata": {},
     "output_type": "execute_result"
    }
   ],
   "source": [
    "callbacks = [\n",
    "    # This callback saves a SavedModel every 100 batches.\n",
    "    # We include the training loss in the folder name.\n",
    "    keras.callbacks.ModelCheckpoint(\n",
    "        filepath=checkpoint_dir + '/ckpt-loss={loss:.3f}',\n",
    "        save_freq=500)\n",
    "]\n",
    "model.fit(final_array, label, epochs=1, callbacks=callbacks, batch_size = batch_size, validation_data=(test_data, test_label)"
   ]
  },
  {
   "cell_type": "code",
   "execution_count": null,
   "metadata": {},
   "outputs": [],
   "source": []
  }
 ],
 "metadata": {
  "kernelspec": {
   "display_name": "Python 3",
   "language": "python",
   "name": "python3"
  },
  "language_info": {
   "codemirror_mode": {
    "name": "ipython",
    "version": 3
   },
   "file_extension": ".py",
   "mimetype": "text/x-python",
   "name": "python",
   "nbconvert_exporter": "python",
   "pygments_lexer": "ipython3",
   "version": "3.6.10"
  }
 },
 "nbformat": 4,
 "nbformat_minor": 4
}
