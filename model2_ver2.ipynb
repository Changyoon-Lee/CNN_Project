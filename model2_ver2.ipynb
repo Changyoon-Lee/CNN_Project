{
 "cells": [
  {
   "cell_type": "code",
   "execution_count": 3,
   "metadata": {},
   "outputs": [],
   "source": [
    "%matplotlib inline\n",
    "import matplotlib.pyplot as plt\n",
    "import re\n",
    "from konlpy.tag import Okt\n",
    "from tensorflow.keras.preprocessing.text import Tokenizer\n",
    "import numpy as np\n",
    "from tensorflow.keras.preprocessing.sequence import pad_sequences"
   ]
  },
  {
   "cell_type": "code",
   "execution_count": 9,
   "metadata": {},
   "outputs": [],
   "source": [
    "\n",
    "def m2_load_token_and_label():\n",
    "\n",
    "  test = pd.read_pickle(\"token_test_data_ver2.pkl\")\n",
    "  train = pd.read_pickle(\"token_train_data_ver2.pkl\")\n",
    "\n",
    "  training_sentences, training_labels = train['token'], train['label']\n",
    "  testing_sentences, testing_labels = test['token'], test['label']\n",
    "\n",
    "  return training_sentences, training_labels, testing_sentences, testing_labels\n",
    "\n",
    "def m2_tokenizer():\n",
    "\n",
    "  vocab_size = 20000\n",
    "  embedding_dim = 200\n",
    "  max_length = 30\n",
    "  truct_type = 'post'\n",
    "  padding_type = 'post'\n",
    "  oov_tok = '<OOV>'\n",
    "\n",
    "  training_sentences, training_labels, testing_sentences, testing_labels = m2_load_token_and_label()\n",
    "\n",
    "  tokenizer = Tokenizer(num_words=vocab_size, oov_token=oov_tok)\n",
    "  tokenizer.fit_on_texts(training_sentences)\n",
    "  word_idx = tokenizer.index_word\n",
    "\n",
    "\n",
    "  # Sequence/ Padding\n",
    "  training_sequences  = tokenizer.texts_to_sequences(training_sentences)\n",
    "  training_padded = pad_sequences(training_sequences, maxlen=max_length, \n",
    "                                  padding=padding_type, truncating=truct_type)\n",
    "\n",
    "\n",
    "  testing_sequences  = tokenizer.texts_to_sequences(testing_sentences)\n",
    "  testing_padded = pad_sequences(testing_sequences, maxlen=max_length, \n",
    "                                  padding=padding_type, truncating=truct_type)\n",
    "  # word2vec weight \n",
    "  vocab_size = len(word_idx) + 1\n",
    "  embedding_dim = 200\n",
    "\n",
    "  embedding_matrix = np.zeros((vocab_size, embedding_dim))\n",
    "  ko_model= Word2Vec.load('word2vec_movie.model')\n",
    "\n",
    "  for word, idx in tokenizer.word_index.items():\n",
    "      embedding_vector = ko_model[word] if word in ko_model else None\n",
    "      if embedding_vector is not None:\n",
    "          embedding_matrix[idx] = embedding_vector\n",
    "\n",
    "  return training_padded, testing_padded, training_labels,testing_labels,embedding_matrix, vocab_size"
   ]
  },
  {
   "cell_type": "code",
   "execution_count": 10,
   "metadata": {},
   "outputs": [],
   "source": [
    "def plot_graphs(history, string, name='model'):\n",
    "    plt.plot(history.history[string])\n",
    "    plt.plot(history.history['val_' + string])\n",
    "    plt.xlabel(\"Epochs\")\n",
    "    plt.ylabel(string)\n",
    "    plt.title(name)\n",
    "    plt.legend([string, 'val_' + string])\n",
    "\n",
    "    fig = plt.gcf()\n",
    "    ##저장될 폴더생성\n",
    "    result_dir = './result_file'\n",
    "    if not os.path.exists(result_dir):\n",
    "        os.makedirs(result_dir)\n",
    "    fig.savefig(result_dir+'/{}.png'.format(name), dpi = fig.dpi)\n",
    "    print('<{}.png> result_file폴더에 결과 그래프 저장 완료'.format(name))\n",
    "    plt.show()"
   ]
  },
  {
   "cell_type": "code",
   "execution_count": 11,
   "metadata": {},
   "outputs": [],
   "source": [
    "def m2_model():\n",
    "\n",
    "  embedding_dim = 200\n",
    "  filter_sizes = (3, 4, 5)\n",
    "  num_filters = 100\n",
    "  dropout = 0.5\n",
    "  hidden_dims = 100\n",
    "  max_length = 30\n",
    "\n",
    "  conv_blocks =[]\n",
    "  input_shape = (30)\n",
    "  model_input = tf.keras.layers.Input(shape=input_shape)\n",
    "  z = model_input\n",
    "\n",
    "  training_padded, testing_padded, training_labels,testing_labels,embedding_matrix, vocab_size = m2_tokenizer()\n",
    "  embedding = tf.keras.layers.Embedding(vocab_size, embedding_dim, input_length=max_length,\n",
    "                                          weights = [embedding_matrix], trainable = False)(z)\n",
    "                                          \n",
    "  for sz in filter_sizes:\n",
    "      \n",
    "\n",
    "      conv = tf.keras.layers.Conv1D(filters=num_filters,\n",
    "                          kernel_size=sz,\n",
    "                          padding=\"valid\",\n",
    "                          activation=\"relu\",\n",
    "                          strides=1)(embedding)\n",
    "      conv = tf.keras.layers.GlobalAveragePooling1D()(conv)\n",
    "      conv = tf.keras.layers.Flatten()(conv)\n",
    "      conv_blocks.append(conv)\n",
    "  z = tf.keras.layers.Concatenate()(conv_blocks) if len(conv_blocks) > 1 else conv_blocks[0]\n",
    "\n",
    "  z = tf.keras.layers.Dense(hidden_dims, activation=\"relu\", kernel_regularizer=tf.keras.regularizers.l2(0.003), bias_regularizer=tf.keras.regularizers.l2(0.003))(z)\n",
    "  z = tf.keras.layers.Dropout(dropout)(z)\n",
    "  model_output = tf.keras.layers.Dense(1, activation=\"sigmoid\")(z)\n",
    "  model = tf.keras.Model(model_input, model_output)\n",
    "\n",
    "  batch_size = 50\n",
    "  num_epochs = 10\n",
    "  min_word_count = 1\n",
    "  context = 10\n",
    "\n",
    "  model.compile(loss='binary_crossentropy', optimizer='adam', metrics=['accuracy'])\n",
    "\n",
    "  checkpoint_dir = './ckpt2'\n",
    "  if not os.path.exists(checkpoint_dir):\n",
    "      os.makedirs(checkpoint_dir)\n",
    "  callbacks = [\n",
    "      keras.callbacks.EarlyStopping(monitor='val_accuracy', patience=0),   \n",
    "      keras.callbacks.ModelCheckpoint(\n",
    "          filepath=checkpoint_dir + '/ckpt2-loss={loss:.3f}')\n",
    "      ]\n",
    "\n",
    "  history = model.fit(training_padded, training_labels, epochs=10, callbacks=callbacks, batch_size = batch_size, validation_data=(testing_padded, testing_labels))\n",
    "  accuracy_graph = plot_graphs(history, 'accuracy',name='model2_accuracy')\n",
    "  loss_graph= plot_graphs(history, 'loss',name='model2_loss')  \n",
    "\n",
    "  return model, history, accuracy_graph,loss_graph"
   ]
  },
  {
   "cell_type": "code",
   "execution_count": 12,
   "metadata": {},
   "outputs": [
    {
     "name": "stderr",
     "output_type": "stream",
     "text": [
      "C:\\Users\\leeso\\anaconda\\envs\\crawl\\lib\\site-packages\\ipykernel_launcher.py:44: DeprecationWarning: Call to deprecated `__contains__` (Method will be removed in 4.0.0, use self.wv.__contains__() instead).\n",
      "C:\\Users\\leeso\\anaconda\\envs\\crawl\\lib\\site-packages\\ipykernel_launcher.py:44: DeprecationWarning: Call to deprecated `__getitem__` (Method will be removed in 4.0.0, use self.wv.__getitem__() instead).\n"
     ]
    },
    {
     "name": "stdout",
     "output_type": "stream",
     "text": [
      "Epoch 1/10\n",
      "2923/2924 [============================>.] - ETA: 0s - loss: 0.4382 - accuracy: 0.8142INFO:tensorflow:Assets written to: ./ckpt2\\ckpt2-loss=0.438\\assets\n",
      "2924/2924 [==============================] - 144s 49ms/step - loss: 0.4381 - accuracy: 0.8142 - val_loss: 0.3981 - val_accuracy: 0.8258\n",
      "Epoch 2/10\n",
      "2923/2924 [============================>.] - ETA: 0s - loss: 0.3947 - accuracy: 0.8283INFO:tensorflow:Assets written to: ./ckpt2\\ckpt2-loss=0.395\\assets\n",
      "2924/2924 [==============================] - 149s 51ms/step - loss: 0.3947 - accuracy: 0.8283 - val_loss: 0.3892 - val_accuracy: 0.8295\n",
      "Epoch 3/10\n",
      "2924/2924 [==============================] - ETA: 0s - loss: 0.3828 - accuracy: 0.8368INFO:tensorflow:Assets written to: ./ckpt2\\ckpt2-loss=0.383\\assets\n",
      "2924/2924 [==============================] - 166s 57ms/step - loss: 0.3828 - accuracy: 0.8368 - val_loss: 0.3793 - val_accuracy: 0.8360\n",
      "Epoch 4/10\n",
      "2924/2924 [==============================] - ETA: 0s - loss: 0.3726 - accuracy: 0.8420INFO:tensorflow:Assets written to: ./ckpt2\\ckpt2-loss=0.373\\assets\n",
      "2924/2924 [==============================] - 148s 51ms/step - loss: 0.3726 - accuracy: 0.8420 - val_loss: 0.3761 - val_accuracy: 0.8400\n",
      "Epoch 5/10\n",
      "2923/2924 [============================>.] - ETA: 0s - loss: 0.3646 - accuracy: 0.8463INFO:tensorflow:Assets written to: ./ckpt2\\ckpt2-loss=0.365\\assets\n",
      "2924/2924 [==============================] - 148s 51ms/step - loss: 0.3646 - accuracy: 0.8463 - val_loss: 0.3804 - val_accuracy: 0.8391\n",
      "<model2_accuracy.png> result_file폴더에 결과 그래프 저장 완료\n"
     ]
    },
    {
     "data": {
      "image/png": "[encoded data removed]",
      "text/plain": [
       "<Figure size 432x288 with 1 Axes>"
      ]
     },
     "metadata": {
      "needs_background": "light"
     },
     "output_type": "display_data"
    },
    {
     "name": "stdout",
     "output_type": "stream",
     "text": [
      "<model2_loss.png> result_file폴더에 결과 그래프 저장 완료\n"
     ]
    },
    {
     "data": {
      "image/png": "[encoded data removed]",
      "text/plain": [
       "<Figure size 432x288 with 1 Axes>"
      ]
     },
     "metadata": {
      "needs_background": "light"
     },
     "output_type": "display_data"
    },
    {
     "data": {
      "text/plain": [
       "(<tensorflow.python.keras.engine.functional.Functional at 0x221e923fa90>,\n",
       " <tensorflow.python.keras.callbacks.History at 0x221e93bc6a0>,\n",
       " None,\n",
       " None)"
      ]
     },
     "execution_count": 12,
     "metadata": {},
     "output_type": "execute_result"
    }
   ],
   "source": [
    "m2_model()"
   ]
  },
  {
   "cell_type": "code",
   "execution_count": null,
   "metadata": {},
   "outputs": [],
   "source": []
  }
 ],
 "metadata": {
  "kernelspec": {
   "display_name": "Python 3",
   "language": "python",
   "name": "python3"
  },
  "language_info": {
   "codemirror_mode": {
    "name": "ipython",
    "version": 3
   },
   "file_extension": ".py",
   "mimetype": "text/x-python",
   "name": "python",
   "nbconvert_exporter": "python",
   "pygments_lexer": "ipython3",
   "version": "3.6.10"
  },
  "toc": {
   "base_numbering": 1,
   "nav_menu": {},
   "number_sections": true,
   "sideBar": true,
   "skip_h1_title": false,
   "title_cell": "Table of Contents",
   "title_sidebar": "Contents",
   "toc_cell": false,
   "toc_position": {},
   "toc_section_display": true,
   "toc_window_display": false
  },
  "varInspector": {
   "cols": {
    "lenName": 16,
    "lenType": 16,
    "lenVar": 40
   },
   "kernels_config": {
    "python": {
     "delete_cmd_postfix": "",
     "delete_cmd_prefix": "del ",
     "library": "var_list.py",
     "varRefreshCmd": "print(var_dic_list())"
    },
    "r": {
     "delete_cmd_postfix": ") ",
     "delete_cmd_prefix": "rm(",
     "library": "var_list.r",
     "varRefreshCmd": "cat(var_dic_list()) "
    }
   },
   "types_to_exclude": [
    "module",
    "function",
    "builtin_function_or_method",
    "instance",
    "_Feature"
   ],
   "window_display": false
  }
 },
 "nbformat": 4,
 "nbformat_minor": 4
}
